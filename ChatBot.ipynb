{
  "nbformat": 4,
  "nbformat_minor": 0,
  "metadata": {
    "colab": {
      "name": "Untitled1.ipynb",
      "provenance": [],
      "collapsed_sections": []
    },
    "kernelspec": {
      "name": "python3",
      "display_name": "Python 3"
    }
  },
  "cells": [
    {
      "cell_type": "code",
      "metadata": {
        "id": "WP5hozwD6rc_"
      },
      "source": [
        "pip install nltk\n"
      ],
      "execution_count": null,
      "outputs": []
    },
    {
      "cell_type": "code",
      "metadata": {
        "id": "mZS7jkeZ62PN",
        "colab": {
          "base_uri": "https://localhost:8080/"
        },
        "outputId": "8bed8f1f-29a6-4080-c5bc-9bede84dbb1f"
      },
      "source": [
        "pip install newspaper3k\n"
      ],
      "execution_count": 1,
      "outputs": [
        {
          "output_type": "stream",
          "name": "stdout",
          "text": [
            "Collecting newspaper3k\n",
            "  Downloading newspaper3k-0.2.8-py3-none-any.whl (211 kB)\n",
            "\u001b[K     |████████████████████████████████| 211 kB 7.6 MB/s \n",
            "\u001b[?25hRequirement already satisfied: beautifulsoup4>=4.4.1 in /usr/local/lib/python3.7/dist-packages (from newspaper3k) (4.6.3)\n",
            "Requirement already satisfied: PyYAML>=3.11 in /usr/local/lib/python3.7/dist-packages (from newspaper3k) (3.13)\n",
            "Requirement already satisfied: Pillow>=3.3.0 in /usr/local/lib/python3.7/dist-packages (from newspaper3k) (7.1.2)\n",
            "Requirement already satisfied: requests>=2.10.0 in /usr/local/lib/python3.7/dist-packages (from newspaper3k) (2.23.0)\n",
            "Collecting tldextract>=2.0.1\n",
            "  Downloading tldextract-3.1.2-py2.py3-none-any.whl (87 kB)\n",
            "\u001b[K     |████████████████████████████████| 87 kB 8.0 MB/s \n",
            "\u001b[?25hRequirement already satisfied: nltk>=3.2.1 in /usr/local/lib/python3.7/dist-packages (from newspaper3k) (3.2.5)\n",
            "Requirement already satisfied: lxml>=3.6.0 in /usr/local/lib/python3.7/dist-packages (from newspaper3k) (4.2.6)\n",
            "Collecting feedparser>=5.2.1\n",
            "  Downloading feedparser-6.0.8-py3-none-any.whl (81 kB)\n",
            "\u001b[K     |████████████████████████████████| 81 kB 14.1 MB/s \n",
            "\u001b[?25hCollecting tinysegmenter==0.3\n",
            "  Downloading tinysegmenter-0.3.tar.gz (16 kB)\n",
            "Collecting feedfinder2>=0.0.4\n",
            "  Downloading feedfinder2-0.0.4.tar.gz (3.3 kB)\n",
            "Collecting jieba3k>=0.35.1\n",
            "  Downloading jieba3k-0.35.1.zip (7.4 MB)\n",
            "\u001b[K     |████████████████████████████████| 7.4 MB 19.6 MB/s \n",
            "\u001b[?25hCollecting cssselect>=0.9.2\n",
            "  Downloading cssselect-1.1.0-py2.py3-none-any.whl (16 kB)\n",
            "Requirement already satisfied: python-dateutil>=2.5.3 in /usr/local/lib/python3.7/dist-packages (from newspaper3k) (2.8.2)\n",
            "Requirement already satisfied: six in /usr/local/lib/python3.7/dist-packages (from feedfinder2>=0.0.4->newspaper3k) (1.15.0)\n",
            "Collecting sgmllib3k\n",
            "  Downloading sgmllib3k-1.0.0.tar.gz (5.8 kB)\n",
            "Requirement already satisfied: idna<3,>=2.5 in /usr/local/lib/python3.7/dist-packages (from requests>=2.10.0->newspaper3k) (2.10)\n",
            "Requirement already satisfied: urllib3!=1.25.0,!=1.25.1,<1.26,>=1.21.1 in /usr/local/lib/python3.7/dist-packages (from requests>=2.10.0->newspaper3k) (1.24.3)\n",
            "Requirement already satisfied: certifi>=2017.4.17 in /usr/local/lib/python3.7/dist-packages (from requests>=2.10.0->newspaper3k) (2021.5.30)\n",
            "Requirement already satisfied: chardet<4,>=3.0.2 in /usr/local/lib/python3.7/dist-packages (from requests>=2.10.0->newspaper3k) (3.0.4)\n",
            "Requirement already satisfied: filelock>=3.0.8 in /usr/local/lib/python3.7/dist-packages (from tldextract>=2.0.1->newspaper3k) (3.2.0)\n",
            "Collecting requests-file>=1.4\n",
            "  Downloading requests_file-1.5.1-py2.py3-none-any.whl (3.7 kB)\n",
            "Building wheels for collected packages: tinysegmenter, feedfinder2, jieba3k, sgmllib3k\n",
            "  Building wheel for tinysegmenter (setup.py) ... \u001b[?25l\u001b[?25hdone\n",
            "  Created wheel for tinysegmenter: filename=tinysegmenter-0.3-py3-none-any.whl size=13552 sha256=77d6d6b6e459e9a5b39cfb630a70a1f467029133747dd4a4ca20c53df414e39e\n",
            "  Stored in directory: /root/.cache/pip/wheels/df/67/41/faca10fa501ca010be41b49d40360c2959e1c4f09bcbfa37fa\n",
            "  Building wheel for feedfinder2 (setup.py) ... \u001b[?25l\u001b[?25hdone\n",
            "  Created wheel for feedfinder2: filename=feedfinder2-0.0.4-py3-none-any.whl size=3356 sha256=6d7cc744ccb8e83e8b4e7f1275b639c836080acce1c8a1265f808506474add4d\n",
            "  Stored in directory: /root/.cache/pip/wheels/7f/d4/8f/6e2ca54744c9d7292d88ddb8d42876bcdab5e6d84a21c10346\n",
            "  Building wheel for jieba3k (setup.py) ... \u001b[?25l\u001b[?25hdone\n",
            "  Created wheel for jieba3k: filename=jieba3k-0.35.1-py3-none-any.whl size=7398405 sha256=85a7eeb3f7a4661f34e85beedda4911b2ae4aba2a2db5f918ed1d1c7de829d6a\n",
            "  Stored in directory: /root/.cache/pip/wheels/4c/91/46/3c208287b726df325a5979574324878b679116e4baae1af3c3\n",
            "  Building wheel for sgmllib3k (setup.py) ... \u001b[?25l\u001b[?25hdone\n",
            "  Created wheel for sgmllib3k: filename=sgmllib3k-1.0.0-py3-none-any.whl size=6065 sha256=c3b8e0836d22154c0d022f55bf4a3a13251ce8c367b70c2d2ef54247d7693510\n",
            "  Stored in directory: /root/.cache/pip/wheels/73/ad/a4/0dff4a6ef231fc0dfa12ffbac2a36cebfdddfe059f50e019aa\n",
            "Successfully built tinysegmenter feedfinder2 jieba3k sgmllib3k\n",
            "Installing collected packages: sgmllib3k, requests-file, tldextract, tinysegmenter, jieba3k, feedparser, feedfinder2, cssselect, newspaper3k\n",
            "Successfully installed cssselect-1.1.0 feedfinder2-0.0.4 feedparser-6.0.8 jieba3k-0.35.1 newspaper3k-0.2.8 requests-file-1.5.1 sgmllib3k-1.0.0 tinysegmenter-0.3 tldextract-3.1.2\n"
          ]
        }
      ]
    },
    {
      "cell_type": "code",
      "metadata": {
        "id": "IDaK5Dkx7BGE"
      },
      "source": [
        "from newspaper import Article\n",
        "import random\n",
        "import string\n",
        "import nltk\n",
        "from sklearn.feature_extraction.text import CountVectorizer\n",
        "from sklearn.metrics.pairwise import cosine_similarity\n",
        "import numpy as np\n",
        "import warnings\n",
        "warnings.filterwarnings('ignore')"
      ],
      "execution_count": 2,
      "outputs": []
    },
    {
      "cell_type": "code",
      "metadata": {
        "id": "ml0n-CjY7z-v",
        "colab": {
          "base_uri": "https://localhost:8080/"
        },
        "outputId": "1ca5346c-af46-4514-ed22-9c38f3ce844e"
      },
      "source": [
        "nltk.download('punkt',quiet=True)"
      ],
      "execution_count": 3,
      "outputs": [
        {
          "output_type": "execute_result",
          "data": {
            "text/plain": [
              "True"
            ]
          },
          "metadata": {},
          "execution_count": 3
        }
      ]
    },
    {
      "cell_type": "code",
      "metadata": {
        "id": "OBhxpeAs7-n1"
      },
      "source": [
        "#Get Article\n",
        "article= Article('https://mentalillness.netlify.app/')\n",
        "article.download()\n",
        "article.parse()\n",
        "article.nlp()\n",
        "corpus=article.text\n"
      ],
      "execution_count": 4,
      "outputs": []
    },
    {
      "cell_type": "code",
      "metadata": {
        "id": "lVt136nw8m8k",
        "colab": {
          "base_uri": "https://localhost:8080/"
        },
        "outputId": "caeeb574-6c74-412e-a221-99ccb4b6d3f1"
      },
      "source": [
        "print(corpus)"
      ],
      "execution_count": 5,
      "outputs": [
        {
          "output_type": "stream",
          "name": "stdout",
          "text": [
            "What is mental health?\n",
            "\n",
            "Mental health is a state of well-being in which an individual realizes his or her own abilities, can cope with the normal stresses of life, can work productively, and is able to make a contribution to his or her community.\n",
            "\n",
            "Risk factors\n",
            "\n",
            "Social and financial circumstances, biological factors, and lifestyle choices can all shape a person’s mental health.\n",
            "\n",
            "mental illnesses\n",
            "\n",
            "anxiety disorders mood disorders schizophrenia disorders\n",
            "\n",
            "Early signs\n",
            "\n",
            "withdrawing from friends, family, and colleagues avoiding activities that they would normally enjoy sleeping too much or too little eating too much or too little feeling hopeless having consistently low energy\n",
            "\n",
            "Treatment\n",
            "\n",
            "Psychotherapy, or talking therapies Medication Self-help\n",
            "\n",
            "Suicide prevention\n",
            "\n",
            "Ask the tough question: “Are you considering suicide” Listen to the person without judgment. Call 911 or the local emergency number, or text TALK to 741741 to communicate with a trained crisis counselor. Stay with the person until professional help arrives. Try to remove any weapons, medications, or other potentially harmful objects.\n",
            "\n",
            "What is mental illness\n",
            "\n",
            "Mental illnesses are health conditions involving changes in emotion, thinking or behavior (or a combination of these). Mental illnesses are associated with distress and/or problems functioning in social, work or family activities\n",
            "\n",
            "Causes\n",
            "\n",
            "Your genes and family history Your life experiences, such as stress or a history of abuse, especially if they happen in childhood Biological factors such as chemical imbalances in the brain A traumatic brain injury A mother's exposure to viruses or toxic chemicals while pregnant Use of alcohol or recreational drugs Having a serious medical condition like cancer Having few friends, and feeling lonely or isolated\n",
            "\n",
            "How can I tell if someone has a mental health problem\n",
            "\n",
            "You can’t always tell if someone has a mental illness – people might look as though they’re fine and doing well, when actually they’re silently struggling. If someone has bipolar disorder, they may show significant mood swings, or appear more withdrawn if they are dealing with self-harm or negative thoughts, but everything is dependent on the individual and there is no one way to know whether someone is unwell.\n",
            "\n",
            "How can I speak to and help someone with a mental health problem like depression or anxiety\n",
            "\n",
            "Encourage them to seek help Don’t be afraid to bring it up Don’t blame them Be patient Look after yourself\n",
            "\n",
            "What do I do if it is an emergency\n",
            "\n",
            "If you’re feeling suicidal or are concerned about someone else, confide in someone you know, contact your GP, call 999, go to A&E or call the Samaritans (116 123).\n",
            "\n",
            "What is the best way to improve my mental wellbeing?\n",
            "\n",
            "Diet, Sleep, Being outdoors, Exercise\n",
            "\n",
            "diagnoses\n",
            "\n",
            "A medical history, A physical exam and possibly lab tests, A psychological evaluation.\n",
            "\n",
            "Treatment\n",
            "\n",
            "If you have a mild mental illness with well-controlled symptoms, treatment from your primary care provider may be sufficient. However, often a team approach is appropriate to make sure all your psychiatric, medical and social needs are met.\n"
          ]
        }
      ]
    },
    {
      "cell_type": "code",
      "metadata": {
        "id": "m5a5-kDi9JJt"
      },
      "source": [
        "text=corpus\n",
        "sentence_list=nltk.sent_tokenize(text)"
      ],
      "execution_count": 6,
      "outputs": []
    },
    {
      "cell_type": "code",
      "metadata": {
        "id": "AwPyjO_49UMt",
        "colab": {
          "base_uri": "https://localhost:8080/"
        },
        "outputId": "a2a363d9-1e24-4ec6-f75b-27686d9159d5"
      },
      "source": [
        "print(sentence_list)"
      ],
      "execution_count": 7,
      "outputs": [
        {
          "output_type": "stream",
          "name": "stdout",
          "text": [
            "['What is mental health?', 'Mental health is a state of well-being in which an individual realizes his or her own abilities, can cope with the normal stresses of life, can work productively, and is able to make a contribution to his or her community.', 'Risk factors\\n\\nSocial and financial circumstances, biological factors, and lifestyle choices can all shape a person’s mental health.', 'mental illnesses\\n\\nanxiety disorders mood disorders schizophrenia disorders\\n\\nEarly signs\\n\\nwithdrawing from friends, family, and colleagues avoiding activities that they would normally enjoy sleeping too much or too little eating too much or too little feeling hopeless having consistently low energy\\n\\nTreatment\\n\\nPsychotherapy, or talking therapies Medication Self-help\\n\\nSuicide prevention\\n\\nAsk the tough question: “Are you considering suicide” Listen to the person without judgment.', 'Call 911 or the local emergency number, or text TALK to 741741 to communicate with a trained crisis counselor.', 'Stay with the person until professional help arrives.', 'Try to remove any weapons, medications, or other potentially harmful objects.', 'What is mental illness\\n\\nMental illnesses are health conditions involving changes in emotion, thinking or behavior (or a combination of these).', \"Mental illnesses are associated with distress and/or problems functioning in social, work or family activities\\n\\nCauses\\n\\nYour genes and family history Your life experiences, such as stress or a history of abuse, especially if they happen in childhood Biological factors such as chemical imbalances in the brain A traumatic brain injury A mother's exposure to viruses or toxic chemicals while pregnant Use of alcohol or recreational drugs Having a serious medical condition like cancer Having few friends, and feeling lonely or isolated\\n\\nHow can I tell if someone has a mental health problem\\n\\nYou can’t always tell if someone has a mental illness – people might look as though they’re fine and doing well, when actually they’re silently struggling.\", 'If someone has bipolar disorder, they may show significant mood swings, or appear more withdrawn if they are dealing with self-harm or negative thoughts, but everything is dependent on the individual and there is no one way to know whether someone is unwell.', 'How can I speak to and help someone with a mental health problem like depression or anxiety\\n\\nEncourage them to seek help Don’t be afraid to bring it up Don’t blame them Be patient Look after yourself\\n\\nWhat do I do if it is an emergency\\n\\nIf you’re feeling suicidal or are concerned about someone else, confide in someone you know, contact your GP, call 999, go to A&E or call the Samaritans (116 123).', 'What is the best way to improve my mental wellbeing?', 'Diet, Sleep, Being outdoors, Exercise\\n\\ndiagnoses\\n\\nA medical history, A physical exam and possibly lab tests, A psychological evaluation.', 'Treatment\\n\\nIf you have a mild mental illness with well-controlled symptoms, treatment from your primary care provider may be sufficient.', 'However, often a team approach is appropriate to make sure all your psychiatric, medical and social needs are met.']\n"
          ]
        }
      ]
    },
    {
      "cell_type": "code",
      "metadata": {
        "id": "WwvzcwGC9cI8"
      },
      "source": [
        "def greeting_response(text):\n",
        "  text=text.lower()\n",
        "  bot_greeting=['Hi','Hey','Hello','Hey There','Howdy']\n",
        "  user_greeting=['hi','hey','hello','hey there','wassup','whats up']\n",
        "  \n",
        "  \n",
        "\n",
        "  for word in text.split():\n",
        "    if word in user_greeting:\n",
        "      return random.choice(bot_greeting)"
      ],
      "execution_count": 8,
      "outputs": []
    },
    {
      "cell_type": "code",
      "metadata": {
        "id": "jCcGIbcPyUlR",
        "colab": {
          "base_uri": "https://localhost:8080/"
        },
        "outputId": "f85825a0-a174-4a12-d4b7-c96b93c6ab24"
      },
      "source": [
        "{\"intents\": [\n",
        "     \n",
        "        {\"tag\": \"goodbye\",\n",
        "         \"patterns\": [\"cya\", \"See you later\", \"Goodbye\", \"I am Leaving\", \"Have a Good day\"],\n",
        "         \"responses\": [\"Sad to see you go :(\", \"Talk to you later\", \"Goodbye!\"],\n",
        "         \"context_set\": \"\"\n",
        "        },\n",
        "        {\"tag\": \"age\",\n",
        "         \"patterns\": [\"how old\", \"how old is tim\", \"what is your age\", \"how old are you\", \"age?\"],\n",
        "         \"responses\": [\"I am 18 years old!\", \"18 years young!\"],\n",
        "         \"context_set\": \"\"\n",
        "        },\n",
        "        {\"tag\": \"name\",\n",
        "         \"patterns\": [\"what is your name\", \"what should I call you\", \"whats your name?\"],\n",
        "         \"responses\": [\"You can call me Tim.\", \"I'm Tim!\", \"I'm Tim aka Tech With Tim.\"],\n",
        "         \"context_set\": \"\"\n",
        "        },\n",
        "        {\"tag\": \"shop\",\n",
        "         \"patterns\": [\"Id like to buy something\", \"whats on the menu\", \"what do you reccommend?\", \"could i get something to eat\"],\n",
        "         \"responses\": [\"We sell chocolate chip cookies for $2!\", \"Cookies are on the menu!\"],\n",
        "         \"context_set\": \"\"\n",
        "        },\n",
        "        {\"tag\": \"hours\",\n",
        "         \"patterns\": [\"when are you guys open\", \"what are your hours\", \"hours of operation\"],\n",
        "         \"responses\": [\"We are open 7am-4pm Monday-Friday!\"],\n",
        "         \"context_set\": \"\"\n",
        "        }\n",
        "   ]\n",
        "}"
      ],
      "execution_count": 9,
      "outputs": [
        {
          "output_type": "execute_result",
          "data": {
            "text/plain": [
              "{'intents': [{'context_set': '',\n",
              "   'patterns': ['cya',\n",
              "    'See you later',\n",
              "    'Goodbye',\n",
              "    'I am Leaving',\n",
              "    'Have a Good day'],\n",
              "   'responses': ['Sad to see you go :(', 'Talk to you later', 'Goodbye!'],\n",
              "   'tag': 'goodbye'},\n",
              "  {'context_set': '',\n",
              "   'patterns': ['how old',\n",
              "    'how old is tim',\n",
              "    'what is your age',\n",
              "    'how old are you',\n",
              "    'age?'],\n",
              "   'responses': ['I am 18 years old!', '18 years young!'],\n",
              "   'tag': 'age'},\n",
              "  {'context_set': '',\n",
              "   'patterns': ['what is your name',\n",
              "    'what should I call you',\n",
              "    'whats your name?'],\n",
              "   'responses': ['You can call me Tim.',\n",
              "    \"I'm Tim!\",\n",
              "    \"I'm Tim aka Tech With Tim.\"],\n",
              "   'tag': 'name'},\n",
              "  {'context_set': '',\n",
              "   'patterns': ['Id like to buy something',\n",
              "    'whats on the menu',\n",
              "    'what do you reccommend?',\n",
              "    'could i get something to eat'],\n",
              "   'responses': ['We sell chocolate chip cookies for $2!',\n",
              "    'Cookies are on the menu!'],\n",
              "   'tag': 'shop'},\n",
              "  {'context_set': '',\n",
              "   'patterns': ['when are you guys open',\n",
              "    'what are your hours',\n",
              "    'hours of operation'],\n",
              "   'responses': ['We are open 7am-4pm Monday-Friday!'],\n",
              "   'tag': 'hours'}]}"
            ]
          },
          "metadata": {},
          "execution_count": 9
        }
      ]
    },
    {
      "cell_type": "code",
      "metadata": {
        "id": "ap5XgWyk_hcU"
      },
      "source": [
        "#index_sort function for next code\n",
        "#values of similarity code sorted in descending order\n",
        "def index_sort(list_var):\n",
        "  length = len(list_var)\n",
        "  list_index = list(range(0,length))\n",
        "\n",
        "  x = list_var\n",
        "  for i in range(length):\n",
        "      for j in range(length):\n",
        "        if x[list_index[i]] > x[list_index[j]]:        \n",
        "             temp = list_index[i]\n",
        "             list_index[i] = list_index[j]\n",
        "             list_index[j] = temp\n",
        "  return list_index          \n"
      ],
      "execution_count": 10,
      "outputs": []
    },
    {
      "cell_type": "code",
      "metadata": {
        "id": "yVapuLfr-uz-"
      },
      "source": [
        "def bot_response(user_input):\n",
        "  user_input=user_input.lower()\n",
        "  sentence_list.append(user_input)\n",
        "  bot_response=' '\n",
        "  cm=CountVectorizer().fit_transform(sentence_list)\n",
        "  similarity_scores=cosine_similarity(cm[-1],cm)\n",
        "  similarity_scores_list=similarity_scores.flatten()\n",
        "  index=index_sort(similarity_scores_list)\n",
        "  index=index[1:]\n",
        "  response_flag=0  \n",
        "\n",
        "  j=0\n",
        "  for i in range(len(index)):\n",
        "    if similarity_scores_list[index[i]] > 0.0:\n",
        "      bot_response = bot_response+' '+sentence_list[index[i]]\n",
        "      response_flag=1 \n",
        "      j = j+1\n",
        "    if j > 2:\n",
        "      break    \n",
        "\n",
        "  if response_flag==0:\n",
        "    bot_response=bot_response+' '+\"I apologise, i dont understand\"\n",
        "\n",
        "  sentence_list.remove(user_input)\n",
        "  return bot_response\n",
        "\n",
        "\n",
        " "
      ],
      "execution_count": 11,
      "outputs": []
    },
    {
      "cell_type": "code",
      "metadata": {
        "id": "u3SqJ4J18Ts2"
      },
      "source": [
        "\n",
        "exit_list = ['exit','see you later','bye','quit','break']\n",
        "sad_list=['i am sad','i am depressed','help me','i get sucidal thoughts','i have sucidal thoughts','hotline number','i am suicidal','i am feeling sad','i am feeling depressed']\n",
        "how_are_you=['how are you','(.*) feeling (.*)']\n",
        "name_list= [\"what is your name\", \"what should I call you\", \"whats your name?\"]\n"
      ],
      "execution_count": 12,
      "outputs": []
    },
    {
      "cell_type": "code",
      "metadata": {
        "id": "yEux73byE2f8",
        "colab": {
          "base_uri": "https://localhost:8080/"
        },
        "outputId": "0f072cdc-b4da-416b-edb4-61ef83c4ed7d"
      },
      "source": [
        "#start chat\n",
        "\n",
        "print('Doc Bot: I am your friendly doctor and i will help you understand about mental health and answer your queries (please dont use puncation marks as i wont understand)')\n",
        "\n",
        "\n",
        "\n",
        "while(True):\n",
        "  user_input=input()\n",
        "\n",
        "\n",
        "\n",
        "  if user_input.lower() in exit_list:\n",
        "    print('Bye Hope to meet you soon')\n",
        "    break\n",
        "  elif user_input.lower()in how_are_you:\n",
        "    print('Doc Bot: I am great how are you feeling today i hope you are all good if you have any queries about mental health  and how to cope up with it please ask me ?')  \n",
        "  elif user_input.lower() in sad_list:\n",
        "    print('Doc Bot: I am so sorry to hear this but i want to tell you one thing you arent alone in this')\n",
        "    print('Please reach out to your loved ones, if you feel that they wont listen')\n",
        "    print(\"Here is a hotline number 9152987821 it is sometimes better to share your feelings with a stranger, i hope you will be okay, we need you \")\n",
        "  elif user_input.lower() in name_list:\n",
        "    print(\"Hi i am Doc Bot here to help you\")\n",
        "\n",
        "  else:\n",
        "    if greeting_response(user_input) != None:\n",
        "      print('Doc Bot: '+greeting_response(user_input)) \n",
        "\n",
        "    else:\n",
        "      print('Doc Bot: '+bot_response(user_input))    \n"
      ],
      "execution_count": null,
      "outputs": [
        {
          "output_type": "stream",
          "name": "stdout",
          "text": [
            "Doc Bot: I am your friendly doctor and i will help you understand about mental health and answer your queries (please dont use puncation marks as i wont understand)\n",
            "Hi\n",
            "Doc Bot: Hi\n",
            "Hello\n",
            "Doc Bot: Hello\n",
            "I am sad\n",
            "Doc Bot: I am so sorry to hear this but i want to tell you one thing you arent alone in this\n",
            "Please reach out to your loved ones, if you feel that they wont listen\n",
            "Here is a hotline number 9152987821 it is sometimes better to share your feelings with a stranger, i hope you will be okay, we need you \n",
            "What is mental Illness\n",
            "Doc Bot:   What is mental health? What is mental illness\n",
            "\n",
            "Mental illnesses are health conditions involving changes in emotion, thinking or behavior (or a combination of these). What is the best way to improve my mental wellbeing?\n",
            "Doc Bot:   Risk factors\n",
            "\n",
            "Social and financial circumstances, biological factors, and lifestyle choices can all shape a person’s mental health. Mental illnesses are associated with distress and/or problems functioning in social, work or family activities\n",
            "\n",
            "Causes\n",
            "\n",
            "Your genes and family history Your life experiences, such as stress or a history of abuse, especially if they happen in childhood Biological factors such as chemical imbalances in the brain A traumatic brain injury A mother's exposure to viruses or toxic chemicals while pregnant Use of alcohol or recreational drugs Having a serious medical condition like cancer Having few friends, and feeling lonely or isolated\n",
            "\n",
            "How can I tell if someone has a mental health problem\n",
            "\n",
            "You can’t always tell if someone has a mental illness – people might look as though they’re fine and doing well, when actually they’re silently struggling.\n",
            "Treatment of mental illness\n",
            "Doc Bot:   Treatment\n",
            "\n",
            "If you have a mild mental illness with well-controlled symptoms, treatment from your primary care provider may be sufficient. What is mental illness\n",
            "\n",
            "Mental illnesses are health conditions involving changes in emotion, thinking or behavior (or a combination of these). What is mental health?\n"
          ]
        }
      ]
    }
  ]
}